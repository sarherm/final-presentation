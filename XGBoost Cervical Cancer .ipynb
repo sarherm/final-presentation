{
 "cells": [
  {
   "cell_type": "code",
   "execution_count": 1,
   "metadata": {},
   "outputs": [],
   "source": [
    "import pandas as pd \n",
    "import numpy as np \n",
    "import matplotlib.pyplot as plt\n",
    "from sklearn.preprocessing import Imputer\n",
    "from sklearn.model_selection import train_test_split"
   ]
  },
  {
   "cell_type": "code",
   "execution_count": 2,
   "metadata": {},
   "outputs": [],
   "source": [
    "df = pd.read_csv(\"kag_risk_factors_cervical_cancer.csv\")"
   ]
  },
  {
   "cell_type": "code",
   "execution_count": 3,
   "metadata": {},
   "outputs": [],
   "source": [
    "categorical_columns = [col for col in df.columns if df[col].dtype == 'object']"
   ]
  },
  {
   "cell_type": "code",
   "execution_count": 4,
   "metadata": {},
   "outputs": [],
   "source": [
    "numerical_columns = [col for col in df.columns if df[col].dtype == 'int64']"
   ]
  },
  {
   "cell_type": "code",
   "execution_count": 5,
   "metadata": {},
   "outputs": [],
   "source": [
    "df_fullna = df.replace('?', np.nan)"
   ]
  },
  {
   "cell_type": "code",
   "execution_count": 6,
   "metadata": {},
   "outputs": [
    {
     "name": "stdout",
     "output_type": "stream",
     "text": [
      "Shape of main data frame:  (858, 36)\n"
     ]
    }
   ],
   "source": [
    "print(\"Shape of main data frame: \", df.shape)"
   ]
  },
  {
   "cell_type": "code",
   "execution_count": 7,
   "metadata": {},
   "outputs": [
    {
     "name": "stderr",
     "output_type": "stream",
     "text": [
      "/Users/sarahherman/anaconda3/lib/python3.6/site-packages/ipykernel_launcher.py:1: FutureWarning: convert_objects is deprecated.  To re-infer data dtypes for object columns, use DataFrame.infer_objects()\n",
      "For all other conversions use the data-type specific converters pd.to_datetime, pd.to_timedelta and pd.to_numeric.\n",
      "  \"\"\"Entry point for launching an IPython kernel.\n"
     ]
    }
   ],
   "source": [
    "df = df.convert_objects(convert_numeric=True) "
   ]
  },
  {
   "cell_type": "code",
   "execution_count": 8,
   "metadata": {},
   "outputs": [],
   "source": [
    "df['Number of sexual partners'] = df['Number of sexual partners'].fillna(df['Number of sexual partners'].median())\n",
    "df['First sexual intercourse'] = df['First sexual intercourse'].fillna(df['First sexual intercourse'].median())\n",
    "df['Num of pregnancies'] = df['Num of pregnancies'].fillna(df['Num of pregnancies'].median())\n",
    "df['Smokes'] = df['Smokes'].fillna(0) # Under suggestion\n",
    "df['Smokes (years)'] = df['Smokes (years)'].fillna(df['Smokes (years)'].median())\n",
    "df['Smokes (packs/year)'] = df['Smokes (packs/year)'].fillna(df['Smokes (packs/year)'].median())\n",
    "df['Hormonal Contraceptives'] = df['Hormonal Contraceptives'].fillna(1)\n",
    "df['Hormonal Contraceptives (years)'] = df['Hormonal Contraceptives (years)'].fillna(df['Hormonal Contraceptives (years)'].median())\n",
    "df['IUD'] = df['IUD'].fillna(0) # Under suggestion\n",
    "df['IUD (years)'] = df['IUD (years)'].fillna(0) #Under suggestion\n",
    "df['STDs'] = df['STDs'].fillna(0)\n",
    "df['STDs (number)'] = df['STDs (number)'].fillna(df['STDs (number)'].median())\n",
    "df['STDs:condylomatosis'] = df['STDs:condylomatosis'].fillna(df['STDs:condylomatosis'].median())\n",
    "df['STDs:cervical condylomatosis'] = df['STDs:cervical condylomatosis'].fillna(df['STDs:cervical condylomatosis'].median())\n",
    "df['STDs:vaginal condylomatosis'] = df['STDs:vaginal condylomatosis'].fillna(df['STDs:vaginal condylomatosis'].median())\n",
    "df['STDs:vulvo-perineal condylomatosis'] = df['STDs:vulvo-perineal condylomatosis'].fillna(df['STDs:vulvo-perineal condylomatosis'].median())\n",
    "df['STDs:syphilis'] = df['STDs:syphilis'].fillna(df['STDs:syphilis'].median())\n",
    "df['STDs:pelvic inflammatory disease'] = df['STDs:pelvic inflammatory disease'].fillna(df['STDs:pelvic inflammatory disease'].median())\n",
    "df['STDs:genital herpes'] = df['STDs:genital herpes'].fillna(df['STDs:genital herpes'].median())\n",
    "df['STDs:molluscum contagiosum'] = df['STDs:molluscum contagiosum'].fillna(df['STDs:molluscum contagiosum'].median())\n",
    "df['STDs:AIDS'] = df['STDs:AIDS'].fillna(df['STDs:AIDS'].median())\n",
    "df['STDs:HIV'] = df['STDs:HIV'].fillna(df['STDs:HIV'].median())\n",
    "df['STDs:Hepatitis B'] = df['STDs:Hepatitis B'].fillna(df['STDs:Hepatitis B'].median())\n",
    "df['STDs:HPV'] = df['STDs:HPV'].fillna(df['STDs:HPV'].median())\n",
    "df['STDs: Time since first diagnosis'] = df['STDs: Time since first diagnosis'].fillna(df['STDs: Time since first diagnosis'].median())\n",
    "df['STDs: Time since last diagnosis'] = df['STDs: Time since last diagnosis'].fillna(df['STDs: Time since last diagnosis'].median())\n",
    "import pandas \n",
    "pandas.set_option('display.max_columns', 100)"
   ]
  },
  {
   "cell_type": "code",
   "execution_count": 9,
   "metadata": {},
   "outputs": [],
   "source": [
    "df = pd.get_dummies(data=df, columns=['Smokes','Hormonal Contraceptives','IUD','STDs','Dx:CIN','Dx:HPV','Dx','Hinselmann','Citology','Schiller'])"
   ]
  },
  {
   "cell_type": "code",
   "execution_count": 10,
   "metadata": {},
   "outputs": [],
   "source": [
    "y_target = df['Dx:Cancer']"
   ]
  },
  {
   "cell_type": "code",
   "execution_count": 11,
   "metadata": {},
   "outputs": [],
   "source": [
    "X_train, X_test, y_train, y_test = train_test_split(df, y_target, random_state = 0)"
   ]
  },
  {
   "cell_type": "code",
   "execution_count": 12,
   "metadata": {},
   "outputs": [],
   "source": [
    "del X_test['Dx:Cancer'] "
   ]
  },
  {
   "cell_type": "code",
   "execution_count": 13,
   "metadata": {},
   "outputs": [],
   "source": [
    "del X_train['Dx:Cancer']"
   ]
  },
  {
   "cell_type": "code",
   "execution_count": 14,
   "metadata": {},
   "outputs": [
    {
     "data": {
      "text/plain": [
       "(643, 45)"
      ]
     },
     "execution_count": 14,
     "metadata": {},
     "output_type": "execute_result"
    }
   ],
   "source": [
    "X_train.shape"
   ]
  },
  {
   "cell_type": "code",
   "execution_count": 15,
   "metadata": {},
   "outputs": [
    {
     "data": {
      "text/plain": [
       "(643,)"
      ]
     },
     "execution_count": 15,
     "metadata": {},
     "output_type": "execute_result"
    }
   ],
   "source": [
    "y_train.shape"
   ]
  },
  {
   "cell_type": "markdown",
   "metadata": {},
   "source": [
    "# XGBOOST"
   ]
  },
  {
   "cell_type": "code",
   "execution_count": 16,
   "metadata": {},
   "outputs": [],
   "source": [
    "import xgboost as xgb"
   ]
  },
  {
   "cell_type": "code",
   "execution_count": 17,
   "metadata": {},
   "outputs": [],
   "source": [
    "clf = xgb.XGBClassifier(silent=False,verbose=True)"
   ]
  },
  {
   "cell_type": "code",
   "execution_count": 18,
   "metadata": {},
   "outputs": [
    {
     "name": "stdout",
     "output_type": "stream",
     "text": [
      "[0]\tvalidation_0-auc:0.875\n",
      "Will train until validation_0-auc hasn't improved in 3 rounds.\n",
      "[1]\tvalidation_0-auc:0.875\n",
      "[2]\tvalidation_0-auc:0.875\n",
      "[3]\tvalidation_0-auc:0.875\n",
      "Stopping. Best iteration:\n",
      "[0]\tvalidation_0-auc:0.875\n",
      "\n"
     ]
    },
    {
     "data": {
      "text/plain": [
       "XGBClassifier(base_score=0.5, booster='gbtree', colsample_bylevel=1,\n",
       "       colsample_bytree=1, gamma=0, learning_rate=0.1, max_delta_step=0,\n",
       "       max_depth=3, min_child_weight=1, missing=None, n_estimators=100,\n",
       "       n_jobs=1, nthread=None, objective='binary:logistic', random_state=0,\n",
       "       reg_alpha=0, reg_lambda=1, scale_pos_weight=1, seed=None,\n",
       "       silent=False, subsample=1, verbose=True)"
      ]
     },
     "execution_count": 18,
     "metadata": {},
     "output_type": "execute_result"
    }
   ],
   "source": [
    "clf.fit(X_train, y_train, eval_set=[(X_test, y_test)], eval_metric='auc', verbose=True, early_stopping_rounds=3)\n",
    "\n"
   ]
  },
  {
   "cell_type": "code",
   "execution_count": 22,
   "metadata": {},
   "outputs": [],
   "source": [
    "preds = clf.predict_proba(X_test)[:,1]"
   ]
  },
  {
   "cell_type": "code",
   "execution_count": 20,
   "metadata": {},
   "outputs": [
    {
     "name": "stdout",
     "output_type": "stream",
     "text": [
      "[0.33152592 0.33152592 0.33152592 0.33152592 0.33152592 0.33152592\n",
      " 0.33152592 0.33152592 0.33152592 0.33152592 0.33152592 0.33152592\n",
      " 0.33152592 0.33152592 0.33152592 0.33152592 0.33152592 0.33152592\n",
      " 0.33152592 0.33152592 0.33152592 0.33152592 0.33152592 0.33152592\n",
      " 0.33152592 0.33152592 0.33152592 0.33152592 0.626878   0.33152592\n",
      " 0.33152592 0.33152592 0.33152592 0.33152592 0.33152592 0.33152592\n",
      " 0.33152592 0.33152592 0.33152592 0.33152592 0.33152592 0.33152592\n",
      " 0.33152592 0.33152592 0.33152592 0.33152592 0.33152592 0.33152592\n",
      " 0.33152592 0.33152592 0.33152592 0.33152592 0.33152592 0.33152592\n",
      " 0.33152592 0.33152592 0.33152592 0.33152592 0.33152592 0.33152592\n",
      " 0.33152592 0.33152592 0.33152592 0.33152592 0.33152592 0.33152592\n",
      " 0.33152592 0.33152592 0.33152592 0.33152592 0.33152592 0.33152592\n",
      " 0.33152592 0.33152592 0.33152592 0.33152592 0.33152592 0.33152592\n",
      " 0.33152592 0.33152592 0.33152592 0.33152592 0.33152592 0.33152592\n",
      " 0.33152592 0.33152592 0.33152592 0.33152592 0.33152592 0.33152592\n",
      " 0.33152592 0.33152592 0.33152592 0.33152592 0.33152592 0.33152592\n",
      " 0.33152592 0.33152592 0.33152592 0.33152592 0.33152592 0.33152592\n",
      " 0.33152592 0.33152592 0.33152592 0.33152592 0.33152592 0.33152592\n",
      " 0.33152592 0.33152592 0.33152592 0.33152592 0.33152592 0.33152592\n",
      " 0.33152592 0.33152592 0.33152592 0.33152592 0.33152592 0.33152592\n",
      " 0.33152592 0.33152592 0.33152592 0.33152592 0.33152592 0.33152592\n",
      " 0.33152592 0.33152592 0.33152592 0.33152592 0.33152592 0.33152592\n",
      " 0.33152592 0.33152592 0.33152592 0.33152592 0.33152592 0.33152592\n",
      " 0.33152592 0.33152592 0.33152592 0.33152592 0.33152592 0.33152592\n",
      " 0.33152592 0.33152592 0.33152592 0.33152592 0.33152592 0.33152592\n",
      " 0.33152592 0.33152592 0.33152592 0.33152592 0.33152592 0.33152592\n",
      " 0.33152592 0.33152592 0.33152592 0.33152592 0.33152592 0.33152592\n",
      " 0.33152592 0.33152592 0.33152592 0.33152592 0.33152592 0.33152592\n",
      " 0.33152592 0.33152592 0.33152592 0.33152592 0.33152592 0.33152592\n",
      " 0.33152592 0.33152592 0.33152592 0.33152592 0.33152592 0.33152592\n",
      " 0.33152592 0.33152592 0.33152592 0.33152592 0.33152592 0.33152592\n",
      " 0.33152592 0.33152592 0.33152592 0.33152592 0.33152592 0.626878\n",
      " 0.33152592 0.33152592 0.33152592 0.33152592 0.33152592 0.33152592\n",
      " 0.33152592 0.33152592 0.33152592 0.33152592 0.52043116 0.33152592\n",
      " 0.33152592 0.33152592 0.33152592 0.33152592 0.33152592 0.33152592\n",
      " 0.33152592 0.33152592 0.33152592 0.33152592 0.33152592]\n"
     ]
    }
   ],
   "source": [
    "print(preds)"
   ]
  },
  {
   "cell_type": "markdown",
   "metadata": {},
   "source": [
    "# Random Forest"
   ]
  },
  {
   "cell_type": "code",
   "execution_count": 23,
   "metadata": {},
   "outputs": [
    {
     "data": {
      "text/plain": [
       "0.9988151658767772"
      ]
     },
     "execution_count": 23,
     "metadata": {},
     "output_type": "execute_result"
    }
   ],
   "source": [
    "from sklearn.ensemble import RandomForestClassifier\n",
    "from sklearn import metrics\n",
    "\n",
    "forest = RandomForestClassifier(max_depth = 3)\n",
    "forest = forest.fit(X_train,y_train)\n",
    "probabilities = forest.predict_proba(X_test)[:, forest.classes_ == 1]\n",
    "\n",
    "metrics.roc_auc_score(y_test, probabilities)"
   ]
  },
  {
   "cell_type": "code",
   "execution_count": null,
   "metadata": {},
   "outputs": [],
   "source": []
  }
 ],
 "metadata": {
  "kernelspec": {
   "display_name": "Python 3",
   "language": "python",
   "name": "python3"
  },
  "language_info": {
   "codemirror_mode": {
    "name": "ipython",
    "version": 3
   },
   "file_extension": ".py",
   "mimetype": "text/x-python",
   "name": "python",
   "nbconvert_exporter": "python",
   "pygments_lexer": "ipython3",
   "version": "3.6.5"
  }
 },
 "nbformat": 4,
 "nbformat_minor": 2
}
